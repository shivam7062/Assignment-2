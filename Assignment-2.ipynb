{
  "nbformat": 4,
  "nbformat_minor": 0,
  "metadata": {
    "colab": {
      "provenance": []
    },
    "kernelspec": {
      "name": "python3",
      "display_name": "Python 3"
    },
    "language_info": {
      "name": "python"
    }
  },
  "cells": [
    {
      "cell_type": "markdown",
      "source": [
        "# Question 1 : What are semantic HTML elements? Why is using them important for web development?\n",
        "\n",
        "Answer : Semantic HTML elements are HTML tags that clearly describe their meaning and purpose in the structure of a webpage.\n",
        "\n",
        "e.g. :\n",
        "```\n",
        "<header> - for page or section headers\n",
        "<nav> - for navigation menus\n",
        "<main> - main content area\n",
        "<section> - group of related content\n",
        "<article> - independent content (like blog post)\n",
        "<footer> - page or section footer\n",
        "<aside> - sidebar or related content\n",
        "```\n",
        "\n",
        "Why Semantic HTML is Important:\n",
        "* Improves readability for developers\n",
        "* Enhances accessibility for screen readers\n",
        "* search engines understand your content better\n"
      ],
      "metadata": {
        "id": "UIg8tNel4JZZ"
      }
    },
    {
      "cell_type": "markdown",
      "source": [
        "# Question 2: You're designing a blog page. Which semantic elements would you use to structure the page, and why?\n",
        "\n",
        "Answer :  When designing a blog page, semantic elements help you organize content clearly and meaningfully.\n",
        "\n",
        "\n",
        "\n",
        "```\n",
        "<header>\n",
        "Contains site title, logo, and possibly a navigation menu.\n",
        "\n",
        "<nav>\n",
        "Holds links to other pages (Home, About, Contact, etc.).\n",
        "\n",
        "<main>\n",
        "Wraps the main blog content.\n",
        "\n",
        "<article>\n",
        "Used for individual blog posts (each post = one <article>).\n",
        "\n",
        "<section>\n",
        "Groups related content inside a post, or between different parts of the page (e.g., \"Recent Posts\").\n",
        "\n",
        "<aside>\n",
        "For side content like categories, ads, author bio, or related links.\n",
        "\n",
        "<footer>\n",
        "Bottom part of the page (site info, copyright, links).\n",
        "\n",
        "```\n",
        "Why ?\n",
        "* Improves content structure and readability\n",
        "* Enhances accessibility for all users\n",
        "* Helps search engines index content better\n",
        "* Makes the page easier to style and maintain\n"
      ],
      "metadata": {
        "id": "w7Fg9aPL5Yyn"
      }
    },
    {
      "cell_type": "markdown",
      "source": [
        "# Question 3: How can you make an HTML form more accessible to users with disabilities?\n",
        "\n",
        "Answer :\n",
        "* Use label tags properly : Every input should have a label to describe its purpose.\n",
        "* Add aria-* attributes : Use aria-label, aria-describedby for screen readers when labels aren't visible.\n",
        "* Use proper input types : type=\"email\", type=\"tel\" helps with validation and mobile keyboards.\n",
        "* Group related fields with fieldset and legend : Useful for radio buttons, checkboxes, or form sections.\n",
        "* Use placeholders carefully : Don’t rely on placeholder alone as a label (it disappears when typing).\n",
        "\n",
        "\n",
        "\n"
      ],
      "metadata": {
        "id": "AKCHnF4W6ZRc"
      }
    },
    {
      "cell_type": "markdown",
      "source": [
        "# Question 4: Identify and correct the errors in the following CSS code:\n",
        "```\n",
        "p {\n",
        " font-size: 16;\n",
        " color: #333\n",
        " margin-top 10px;\n",
        "}\n",
        "```\n",
        "\n",
        "Answer :\n",
        "```\n",
        "p {\n",
        "  font-size: 16px;\n",
        "  color: #333;\n",
        "  margin-top: 10px;\n",
        "}\n",
        "```\n"
      ],
      "metadata": {
        "id": "Eggku0R27Hht"
      }
    },
    {
      "cell_type": "markdown",
      "source": [
        "# Question 5: Write CSS rules to style all h2 elements inside a section with a blue color and center alignment.\n",
        "\n",
        "Answer :\n",
        "```\n",
        "section h2 {\n",
        "  color: blue;\n",
        "  text-align: center;\n",
        "}\n",
        "```"
      ],
      "metadata": {
        "id": "jYe6qvhD7xxG"
      }
    },
    {
      "cell_type": "markdown",
      "source": [
        "# Question 6: Explain the CSS box model and its components.\n",
        "\n",
        "Answer : The CSS Box Model is the fundamental principle that describes how elements are structured and how spacing and sizing are calculated in CSS.\n",
        "\n",
        "Components :\n",
        "* Content — The actual text or image inside the element.\n",
        "* Padding — Space between the content and the border.\n",
        "* Border — A border that wraps the padding and content.\n",
        "* Margin — Space outside the border, separating the element from other elements."
      ],
      "metadata": {
        "id": "56GTmQ128Pml"
      }
    },
    {
      "cell_type": "markdown",
      "source": [
        "# Question 7: How do the relative, absolute, and fixed positioning properties differ in CSS?\n",
        "\n",
        "Answer :\n",
        "\n",
        "1) position: relative;\n",
        "* The element stays in the normal document flow.\n",
        "* You can move it relative to its original position using top, left, etc.\n",
        "\n",
        "2) position: absolute;\n",
        "* The element is removed from normal flow.\n",
        "* It is positioned relative to the nearest positioned ancestor (relative, absolute, or fixed).\n",
        "\n",
        "3) position: fixed;\n",
        "* The element is fixed to the viewport.\n",
        "* It does not scroll with the page.\n"
      ],
      "metadata": {
        "id": "txtDuNh0A3sC"
      }
    },
    {
      "cell_type": "markdown",
      "source": [
        "# Question 8: Write a CSS rule to set a background image for a <div> with the class .banner, ensuring the image covers the entire area without repeating.\n",
        "\n",
        "Answer :\n",
        "```\n",
        ".banner {\n",
        "  background-image: url(\"your-image.jpg\");\n",
        "  background-size: cover;\n",
        "  background-repeat: no-repeat;\n",
        "  background-position: center;\n",
        "}\n",
        "```"
      ],
      "metadata": {
        "id": "i_qOymBqBUa9"
      }
    }
  ]
}